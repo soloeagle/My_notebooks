{
 "cells": [
  {
   "cell_type": "code",
   "execution_count": null,
   "metadata": {},
   "outputs": [],
   "source": [
    "import tensorflow as tf\n",
    "import random"
   ]
  },
  {
   "cell_type": "code",
   "execution_count": null,
   "metadata": {},
   "outputs": [],
   "source": [
    "num_examples = 100000\n",
    "num_classes = 50\n",
    "\n",
    "def input_values():\n",
    "    multiple_values = [map (int, '{0:050b}'.format(i)) for i in range(2**20)]\n",
    "    random.shuffle(multiple_values)\n",
    "    final_values=[]\n",
    "    for value in multiple_values[:num_examples]:\n",
    "        temp=[]\n",
    "        for number in value:\n",
    "            temp.append([number])\n",
    "        final_values.append(temp)\n",
    "    return final_values\n",
    "#print(len(input_values())) == 100000"
   ]
  },
  {
   "cell_type": "code",
   "execution_count": null,
   "metadata": {},
   "outputs": [],
   "source": [
    "def output_values(inputs):\n",
    "    final_values=[]\n",
    "    for value in inputs:\n",
    "        output_values=[0 for _ in range(num_classes)]\n",
    "        count=0\n",
    "        for i in value:\n",
    "            count+=i[0]\n",
    "        if count<num_classes:\n",
    "            output_values[count]=1\n",
    "        final_values.append(output_values)\n",
    "    return final_values\n",
    "        "
   ]
  },
  {
   "cell_type": "code",
   "execution_count": null,
   "metadata": {},
   "outputs": [],
   "source": [
    "def generate_data():\n",
    "    inputs=input_values()\n",
    "    return inputs, output_values(inputs)"
   ]
  },
  {
   "cell_type": "code",
   "execution_count": 27,
   "metadata": {},
   "outputs": [
    {
     "name": "stdout",
     "output_type": "stream",
     "text": [
      "[0]\n",
      "[0, 0, 0, 0, 0, 0, 0, 0, 0, 0, 1, 0, 0, 0, 0, 0, 0, 0, 0, 0, 0, 0, 0, 0, 0, 0, 0, 0, 0, 0, 0, 0, 0, 0, 0, 0, 0, 0, 0, 0, 0, 0, 0, 0, 0, 0, 0, 0, 0, 0]\n"
     ]
    }
   ],
   "source": [
    "i,j=generate_data()\n",
    "print(i[0][16])\n",
    "print(j[16])"
   ]
  },
  {
   "cell_type": "code",
   "execution_count": null,
   "metadata": {},
   "outputs": [],
   "source": []
  }
 ],
 "metadata": {
  "kernelspec": {
   "display_name": "Python 3",
   "language": "python",
   "name": "python3"
  },
  "language_info": {
   "codemirror_mode": {
    "name": "ipython",
    "version": 3
   },
   "file_extension": ".py",
   "mimetype": "text/x-python",
   "name": "python",
   "nbconvert_exporter": "python",
   "pygments_lexer": "ipython3",
   "version": "3.7.4"
  }
 },
 "nbformat": 4,
 "nbformat_minor": 2
}
